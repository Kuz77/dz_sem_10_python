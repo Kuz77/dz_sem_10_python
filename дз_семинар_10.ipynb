{
  "nbformat": 4,
  "nbformat_minor": 0,
  "metadata": {
    "colab": {
      "provenance": [],
      "authorship_tag": "ABX9TyMMIyeoTM6RwIdF0hT/9u0v",
      "include_colab_link": true
    },
    "kernelspec": {
      "name": "python3",
      "display_name": "Python 3"
    },
    "language_info": {
      "name": "python"
    }
  },
  "cells": [
    {
      "cell_type": "markdown",
      "metadata": {
        "id": "view-in-github",
        "colab_type": "text"
      },
      "source": [
        "<a href=\"https://colab.research.google.com/github/Kuz77/dz_sem_10_python/blob/main/%D0%B4%D0%B7_%D1%81%D0%B5%D0%BC%D0%B8%D0%BD%D0%B0%D1%80_10.ipynb\" target=\"_parent\"><img src=\"https://colab.research.google.com/assets/colab-badge.svg\" alt=\"Open In Colab\"/></a>"
      ]
    },
    {
      "cell_type": "markdown",
      "source": [
        "| Задание 44 |\n",
        "\n",
        "В ячейке ниже представлен код генерирующий DataFrame, которая состоит всего из 1 столбца. Ваша задача перевести его в one hot вид. Сможете ли вы это сделать без get_dummies?\n",
        "\n",
        "import random\n",
        "\n",
        "lst = ['robot'] * 10\n",
        "\n",
        "lst += ['human'] * 10\n",
        "\n",
        "random.shuffle(lst)\n",
        "\n",
        "data = pd.DataFrame({'whoAmI'lst})\n",
        "\n",
        "data.head()\n"
      ],
      "metadata": {
        "id": "KcJ-IfqYN4BL"
      }
    },
    {
      "cell_type": "code",
      "source": [
        "import random\n",
        "import pandas as pd\n",
        "lst = ['robot'] * 10\n",
        "lst += ['human'] * 10\n",
        "random.shuffle(lst)\n",
        "data = pd.DataFrame({'whoAmI':lst})\n",
        "data.head()"
      ],
      "metadata": {
        "id": "S3p2Rdb4N6zt"
      },
      "execution_count": null,
      "outputs": []
    },
    {
      "cell_type": "code",
      "source": [
        "datanew = pd.get_dummies(data['whoAmI'])\n",
        "print(datanew)"
      ],
      "metadata": {
        "colab": {
          "base_uri": "https://localhost:8080/"
        },
        "id": "MrruWBxwOfZK",
        "outputId": "63929bf8-fccd-47d9-d0d6-5aafa22c9159"
      },
      "execution_count": null,
      "outputs": [
        {
          "output_type": "stream",
          "name": "stdout",
          "text": [
            "    human  robot\n",
            "0       1      0\n",
            "1       0      1\n",
            "2       0      1\n",
            "3       0      1\n",
            "4       1      0\n",
            "5       0      1\n",
            "6       1      0\n",
            "7       0      1\n",
            "8       1      0\n",
            "9       0      1\n",
            "10      0      1\n",
            "11      1      0\n",
            "12      1      0\n",
            "13      1      0\n",
            "14      0      1\n",
            "15      1      0\n",
            "16      0      1\n",
            "17      1      0\n",
            "18      0      1\n",
            "19      1      0\n"
          ]
        }
      ]
    },
    {
      "cell_type": "code",
      "source": [
        "data = {'robot': [random.randint(0, 1) for _ in range(10)],\n",
        "        'human': [random.randint(0, 1) for _ in range(10)]}\n",
        "\n",
        "for i in range(len(data['robot'])):\n",
        "    if data['robot'][i] == 1:\n",
        "        data['human'][i] = 0\n",
        "    else:\n",
        "        data['human'][i] = 1\n",
        "\n",
        "df = pd.DataFrame(data)\n",
        "print(df)"
      ],
      "metadata": {
        "colab": {
          "base_uri": "https://localhost:8080/"
        },
        "id": "bR4TtpMvOgKV",
        "outputId": "a35751c8-09d6-4531-b5e9-efce74883e42"
      },
      "execution_count": null,
      "outputs": [
        {
          "output_type": "stream",
          "name": "stdout",
          "text": [
            "   robot  human\n",
            "0      0      1\n",
            "1      1      0\n",
            "2      0      1\n",
            "3      1      0\n",
            "4      0      1\n",
            "5      0      1\n",
            "6      1      0\n",
            "7      1      0\n",
            "8      1      0\n",
            "9      0      1\n"
          ]
        }
      ]
    }
  ]
}